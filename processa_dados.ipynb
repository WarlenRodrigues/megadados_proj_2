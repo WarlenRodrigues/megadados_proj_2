{
 "cells": [
  {
   "cell_type": "markdown",
   "metadata": {},
   "source": [
    "# Projeto MegaDados\n",
    "\n",
    "**Alunos:**\n",
    "    \n",
    "+ Rafael Almada\n",
    "+ Warlen Cesar Rodrigues\n",
    "    \n",
    "**Professor:** Fábio Ayres"
   ]
  },
  {
   "cell_type": "code",
   "execution_count": 1,
   "metadata": {},
   "outputs": [],
   "source": [
    "import pyspark\n",
    "from math import log10"
   ]
  },
  {
   "cell_type": "code",
   "execution_count": 2,
   "metadata": {},
   "outputs": [],
   "source": [
    "sc = pyspark.SparkContext(appName='Projeto e-sports')"
   ]
  },
  {
   "cell_type": "code",
   "execution_count": 3,
   "metadata": {
    "scrolled": false
   },
   "outputs": [
    {
     "data": {
      "text/html": [
       "\n",
       "        <div>\n",
       "            <p><b>SparkContext</b></p>\n",
       "\n",
       "            <p><a href=\"http://warlenrodrigues.domain.name:4040\">Spark UI</a></p>\n",
       "\n",
       "            <dl>\n",
       "              <dt>Version</dt>\n",
       "                <dd><code>v3.0.1</code></dd>\n",
       "              <dt>Master</dt>\n",
       "                <dd><code>local[*]</code></dd>\n",
       "              <dt>AppName</dt>\n",
       "                <dd><code>Projeto e-sports</code></dd>\n",
       "            </dl>\n",
       "        </div>\n",
       "        "
      ],
      "text/plain": [
       "<SparkContext master=local[*] appName=Projeto e-sports>"
      ]
     },
     "execution_count": 3,
     "metadata": {},
     "output_type": "execute_result"
    }
   ],
   "source": [
    "sc"
   ]
  },
  {
   "cell_type": "code",
   "execution_count": 4,
   "metadata": {},
   "outputs": [
    {
     "data": {
      "text/plain": [
       "MapPartitionsRDD[2] at mapPartitions at SerDeUtil.scala:244"
      ]
     },
     "execution_count": 4,
     "metadata": {},
     "output_type": "execute_result"
    }
   ],
   "source": [
    "rdd = sc.sequenceFile('part-00000')\n",
    "rdd"
   ]
  },
  {
   "cell_type": "code",
   "execution_count": 5,
   "metadata": {},
   "outputs": [],
   "source": [
    "# result = rdd.take(10)\n",
    "# result[0]"
   ]
  },
  {
   "cell_type": "markdown",
   "metadata": {},
   "source": [
    "### Montando RDD para Valorant"
   ]
  },
  {
   "cell_type": "code",
   "execution_count": 6,
   "metadata": {},
   "outputs": [
    {
     "data": {
      "text/plain": [
       "10"
      ]
     },
     "execution_count": 6,
     "metadata": {},
     "output_type": "execute_result"
    }
   ],
   "source": [
    "#Pegar os documentos que possuem a palavra Valorant\n",
    "def getValorantWord(item):\n",
    "    if 'Valorant' in item[1]:\n",
    "        return item\n",
    "    \n",
    "rdd_valorant = rdd.filter(getValorantWord)\n",
    "rdd_valorant.count()"
   ]
  },
  {
   "cell_type": "markdown",
   "metadata": {},
   "source": [
    "### Montando RDD para Counter Strike"
   ]
  },
  {
   "cell_type": "code",
   "execution_count": 8,
   "metadata": {},
   "outputs": [
    {
     "data": {
      "text/plain": [
       "13"
      ]
     },
     "execution_count": 8,
     "metadata": {},
     "output_type": "execute_result"
    }
   ],
   "source": [
    "#Pegar os documentos que possuem a palavra CS:GO\n",
    "def getCSWord(item):\n",
    "    if 'CS:GO' in item[1]:\n",
    "        return item\n",
    "    \n",
    "rdd_cs = rdd.filter(getCSWord)\n",
    "rdd_cs.count()"
   ]
  },
  {
   "cell_type": "markdown",
   "metadata": {},
   "source": [
    "### Operacionalização para Intersecção entre Valorant e Counter Strike"
   ]
  },
  {
   "cell_type": "code",
   "execution_count": 9,
   "metadata": {},
   "outputs": [
    {
     "data": {
      "text/plain": [
       "2"
      ]
     },
     "execution_count": 9,
     "metadata": {},
     "output_type": "execute_result"
    }
   ],
   "source": [
    "#Pegar somente os documentos que possuem as duas palavras \n",
    "rdd_valorant_cs = rdd_valorant.intersection(rdd_cs)\n",
    "rdd_valorant_cs.count()"
   ]
  },
  {
   "cell_type": "markdown",
   "metadata": {},
   "source": [
    "#### Operacionalizando frequência de palavras (1 doc = 1 contagem)"
   ]
  },
  {
   "cell_type": "code",
   "execution_count": 10,
   "metadata": {},
   "outputs": [],
   "source": [
    "def conta_palavras(item):\n",
    "    url, conteudo = item\n",
    "    palavras = conteudo.strip().split()\n",
    "    return [(palavra, 1) for palavra in set(palavras)]\n",
    "\n",
    "def junta_contagens(nova_contagem, contagem_atual):\n",
    "    return nova_contagem + contagem_atual\n",
    "\n",
    "rdd_valorant_cs_doc_freq = rdd_valorant_cs.flatMap(conta_palavras).reduceByKey(junta_contagens)"
   ]
  },
  {
   "cell_type": "code",
   "execution_count": 11,
   "metadata": {
    "scrolled": true
   },
   "outputs": [
    {
     "data": {
      "text/plain": [
       "[('Fortnite', 2),\n",
       " ('Legends', 2),\n",
       " ('of', 2),\n",
       " ('CBLOL', 2),\n",
       " ('é', 2),\n",
       " ('o', 2),\n",
       " ('em', 2),\n",
       " ('vence', 2),\n",
       " ('semifinais', 2),\n",
       " ('Riot', 2),\n",
       " ('anuncia', 2),\n",
       " ('semanas', 2),\n",
       " ('sua', 2),\n",
       " ('novos', 2),\n",
       " ('–', 2),\n",
       " ('para', 2),\n",
       " ('chega', 2),\n",
       " ('Worlds', 2),\n",
       " ('Wild', 2),\n",
       " ('na', 2),\n",
       " ('sobre', 2),\n",
       " ('a', 2),\n",
       " ('Confira', 2),\n",
       " ('LoL:', 2),\n",
       " ('League', 2),\n",
       " ('-', 2),\n",
       " ('Seraphine', 2),\n",
       " ('atrás', 2),\n",
       " ('está', 2),\n",
       " ('e', 2),\n",
       " ('CS:GO', 2),\n",
       " ('da', 2),\n",
       " ('online', 2),\n",
       " ('Games', 2),\n",
       " ('2020', 2),\n",
       " ('2ª', 2),\n",
       " ('novo', 2),\n",
       " ('LBFF', 2),\n",
       " ('vaga', 2),\n",
       " ('Etapa', 2),\n",
       " ('do', 2),\n",
       " ('Rift', 2),\n",
       " ('com', 2),\n",
       " ('as', 2),\n",
       " ('garante', 2),\n",
       " ('skins', 2),\n",
       " ('Valorant', 2),\n",
       " ('final', 2),\n",
       " ('de', 2),\n",
       " ('2020:', 2),\n",
       " ('temporada', 1),\n",
       " ('TRABALHE', 1),\n",
       " ('Among', 1),\n",
       " ('personagens', 1),\n",
       " ('STRIKE', 1),\n",
       " ('das', 1),\n",
       " ('us', 1),\n",
       " ('G2', 1),\n",
       " ('outubro,', 1),\n",
       " ('no', 1),\n",
       " ('liderança', 1),\n",
       " ('Loops', 1),\n",
       " ('campeã', 1),\n",
       " ('Como', 1),\n",
       " ('Previsão', 1),\n",
       " ('Mundial', 1),\n",
       " ('desafios', 1),\n",
       " ('Darius,', 1),\n",
       " ('Riven', 1),\n",
       " ('Máquina', 1),\n",
       " ('sofre', 1),\n",
       " ('Resistência', 1),\n",
       " ('LIVES', 1),\n",
       " ('RPG', 1),\n",
       " ('Esports', 1),\n",
       " ('Ruined', 1),\n",
       " ('PlayTimes', 1),\n",
       " ('Vintage', 1),\n",
       " ('Team', 1),\n",
       " ('parecer', 1),\n",
       " ('avalia', 1),\n",
       " ('Fire', 1),\n",
       " ('Testes', 1),\n",
       " ('votações', 1),\n",
       " ('estúdio', 1),\n",
       " ('Jogos', 1),\n",
       " ('First', 1),\n",
       " ('detalhes', 1),\n",
       " ('retorno', 1),\n",
       " ('Entretenimento2', 1),\n",
       " ('servidor', 1),\n",
       " ('DAMWON', 1),\n",
       " ('“Conquistadoras', 1),\n",
       " ('revela', 1),\n",
       " ('Friv', 1),\n",
       " ('paiNGaming', 1),\n",
       " ('contratação', 1),\n",
       " ('Todos', 1),\n",
       " ('Fique', 1),\n",
       " ('Keyd', 1),\n",
       " ('Liga', 1),\n",
       " ('pouco', 1),\n",
       " ('favoritismo', 1),\n",
       " ('Copyright', 1),\n",
       " ('Rift:', 1),\n",
       " ('traz', 1),\n",
       " ('NÓS', 1),\n",
       " ('Combate', 1),\n",
       " ('Fast', 1),\n",
       " ('Awards', 1),\n",
       " ('Gamesradar', 1),\n",
       " ('Mil', 1),\n",
       " ('America', 1),\n",
       " ('Flashpoint,', 1),\n",
       " ('Queso', 1),\n",
       " ('grupos', 1),\n",
       " ('Shop', 1),\n",
       " ('Geek', 1),\n",
       " ('data', 1),\n",
       " ('PurePop', 1),\n",
       " ('Campeões', 1),\n",
       " ('LoL', 1),\n",
       " ('tudo', 1),\n",
       " ('Online', 1),\n",
       " ('total', 1),\n",
       " ('horas', 1),\n",
       " ('sai', 1),\n",
       " ('King:', 1),\n",
       " ('Suning', 1),\n",
       " ('Fatalis', 1),\n",
       " ('Legends19', 1),\n",
       " ('RPG14', 1),\n",
       " ('às', 1),\n",
       " ('EQUIPE', 1),\n",
       " ('Esporte', 1),\n",
       " ('grupo', 1),\n",
       " ('patrocina', 1),\n",
       " ('Legends:', 1),\n",
       " ('Final', 1),\n",
       " ('Cloud9', 1),\n",
       " ('criativo', 1),\n",
       " ('Tony', 1),\n",
       " ('Poder', 1),\n",
       " ('\"Gamesradar\"', 1),\n",
       " ('vencedora', 1),\n",
       " ('Halloweeks', 1),\n",
       " ('Ninja', 1),\n",
       " ('inicia', 1),\n",
       " ('chamo', 1),\n",
       " ('Midas”', 1),\n",
       " ('um', 1),\n",
       " ('deixando', 1),\n",
       " ('Um', 1),\n",
       " ('confira', 1),\n",
       " ('Us', 1),\n",
       " ('TES', 1),\n",
       " ('Profissional', 1),\n",
       " ('Games2', 1),\n",
       " ('Fnatic', 1),\n",
       " ('Games23', 1),\n",
       " ('Iceborne', 1),\n",
       " ('atualização', 1),\n",
       " ('Posts', 1),\n",
       " ('Jarvan', 1),\n",
       " ('Supersérie', 1),\n",
       " ('3:', 1),\n",
       " ('ultrapassa', 1),\n",
       " ('K/DA', 1),\n",
       " ('classificados', 1),\n",
       " ('Fortnite:', 1),\n",
       " ('será', 1),\n",
       " ('não', 1),\n",
       " ('por', 1),\n",
       " ('musical', 1),\n",
       " ('R6', 1),\n",
       " ('live', 1),\n",
       " ('Streamer', 1),\n",
       " ('CS:GO:', 1),\n",
       " ('Valorant:', 1),\n",
       " ('games', 1),\n",
       " ('conseguir', 1),\n",
       " ('lendário', 1),\n",
       " ('os', 1),\n",
       " ('paiN', 1),\n",
       " ('começam', 1),\n",
       " ('Manolagem', 1),\n",
       " ('Finais', 1),\n",
       " ('TAG', 1),\n",
       " ('começando.', 1),\n",
       " ('bêbado', 1),\n",
       " ('que', 1),\n",
       " ('Nova', 1),\n",
       " ('Counter-Strike', 1),\n",
       " ('quarta-feira', 1),\n",
       " ('graça!', 1),\n",
       " ('skin', 1),\n",
       " ('avança', 1),\n",
       " ('Gen.G', 1),\n",
       " ('Latest', 1),\n",
       " ('Videos', 1),\n",
       " ('FIRST', 1),\n",
       " ('Paranormal:', 1),\n",
       " ('Connect', 1),\n",
       " ('mecânicas', 1),\n",
       " ('caro', 1),\n",
       " ('closed', 1),\n",
       " ('até', 1),\n",
       " ('LIGA', 1),\n",
       " ('Americas:', 1),\n",
       " ('Stark', 1),\n",
       " ('360', 1),\n",
       " ('torneio', 1),\n",
       " ('times', 1),\n",
       " ('relacionadas', 1),\n",
       " ('ALL', 1),\n",
       " ('Cripta”', 1),\n",
       " ('assume', 1),\n",
       " ('Cerimônia', 1),\n",
       " ('alerta', 1),\n",
       " ('seu', 1),\n",
       " ('Rainbow', 1),\n",
       " ('players', 1),\n",
       " ('Eletrônico', 1),\n",
       " ('compensações', 1),\n",
       " ('CAMPEONATOS', 1),\n",
       " ('CBLoL', 1),\n",
       " ('temáticas', 1),\n",
       " ('Alok”', 1),\n",
       " ('E-Arena', 1),\n",
       " ('6:', 1),\n",
       " ('premiação', 1),\n",
       " ('co-fundador', 1),\n",
       " ('cedo,', 1),\n",
       " ('como', 1),\n",
       " ('Free', 1),\n",
       " ('item', 1),\n",
       " ('Valorant,', 1),\n",
       " ('Chaos', 1),\n",
       " ('Monumentos', 1),\n",
       " ('Contato', 1),\n",
       " ('atenção...', 1),\n",
       " ('oficial', 1),\n",
       " ('Impact', 1),\n",
       " ('RPG5', 1),\n",
       " ('Monster', 1),\n",
       " ('homofóbico', 1),\n",
       " ('Android', 1),\n",
       " ('Dreamhack', 1),\n",
       " ('redes', 1),\n",
       " ('Fortnite!', 1),\n",
       " ('graça', 1),\n",
       " ('GTA', 1),\n",
       " ('CS:GO,', 1),\n",
       " ('mantém', 1),\n",
       " ('©', 1),\n",
       " ('Runeterra', 1),\n",
       " ('Só', 1),\n",
       " ('confirma', 1),\n",
       " ('ENTRETENIMENTO', 1),\n",
       " ('durante', 1),\n",
       " ('Rockstar', 1),\n",
       " ('à', 1),\n",
       " ('Lab', 1),\n",
       " ('tag', 1),\n",
       " ('line-up', 1),\n",
       " ('investimento', 1),\n",
       " ('The', 1),\n",
       " ('Circuito', 1),\n",
       " ('(14)', 1),\n",
       " ('SOBRE', 1),\n",
       " ('CONOSCO', 1),\n",
       " ('Américas', 1),\n",
       " ('JDG', 1),\n",
       " ('Trending', 1),\n",
       " ('A,', 1),\n",
       " ('quinta-feira', 1),\n",
       " ('Skin', 1),\n",
       " ('Joystick', 1),\n",
       " ('Voador', 1),\n",
       " ('dos', 1),\n",
       " ('(22)', 1),\n",
       " ('V', 1),\n",
       " ('Esportsmaker', 1),\n",
       " ('mais', 1),\n",
       " ('lançamento', 1),\n",
       " ('virada,', 1),\n",
       " ('Six', 1),\n",
       " ('NFA', 1),\n",
       " ('Golden', 1),\n",
       " ('Campeonato', 1),\n",
       " ('Lar', 1),\n",
       " ('G25', 1),\n",
       " ('Publicações', 1),\n",
       " ('Shyvana', 1),\n",
       " ('Demolidor', 1),\n",
       " ('Gaming', 1),\n",
       " ('Expansão', 1),\n",
       " ('Season', 1),\n",
       " ('Classificação', 1),\n",
       " ('fase', 1),\n",
       " ('modo', 1),\n",
       " ('“E-Arena', 1),\n",
       " ('World:', 1),\n",
       " ('CONTATO', 1),\n",
       " ('expansão', 1),\n",
       " ('Campeonatos', 1),\n",
       " ('15', 1),\n",
       " ('estão', 1),\n",
       " ('nossas', 1),\n",
       " ('Série', 1),\n",
       " ('Nesse', 1),\n",
       " ('Ultimate', 1),\n",
       " ('semana', 1),\n",
       " ('completar', 1),\n",
       " ('equipe', 1),\n",
       " ('acontece', 1),\n",
       " ('Estão', 1),\n",
       " ('Times', 1),\n",
       " ('Pode', 1),\n",
       " ('Hunter', 1),\n",
       " ('ataque', 1),\n",
       " ('|', 1),\n",
       " ('GAMES', 1),\n",
       " ('trailer', 1),\n",
       " ('R$', 1),\n",
       " ('uma', 1),\n",
       " ('OUT:', 1),\n",
       " ('feminina', 1),\n",
       " ('Pesadelos', 1),\n",
       " ('MOBILE:', 1),\n",
       " ('herói', 1),\n",
       " ('nesta', 1),\n",
       " ('Houser', 1),\n",
       " ('apenas', 1),\n",
       " ('Tabela', 1),\n",
       " ('North', 1),\n",
       " ('NoOrg', 1),\n",
       " ('2.0', 1),\n",
       " ('Veja', 1),\n",
       " ('Mobile', 1),\n",
       " ('anunciada', 1),\n",
       " ('garantiram', 1),\n",
       " ('Vivo', 1),\n",
       " ('IV,', 1),\n",
       " ('Pro', 1),\n",
       " ('pacote', 1),\n",
       " ('hoje', 1),\n",
       " ('FURIA', 1),\n",
       " ('grande', 1),\n",
       " ('Abertura', 1),\n",
       " ('Ordem', 1),\n",
       " ('confirmado', 1),\n",
       " ('Qualy', 1),\n",
       " ('1.1', 1),\n",
       " ('Academy', 1),\n",
       " ('5', 1),\n",
       " ('Sports', 1),\n",
       " ('eSports', 1),\n",
       " ('X', 1),\n",
       " ('premiações', 1),\n",
       " ('rolou', 1),\n",
       " ('sociais', 1),\n",
       " ('abertas', 1),\n",
       " ('2022', 1),\n",
       " ('jogo', 1),\n",
       " ('Consoles', 1),\n",
       " ('Atlanta', 1),\n",
       " ('dias', 1),\n",
       " ('Cellbit', 1),\n",
       " ('Pedro', 1),\n",
       " ('K/DA:', 1),\n",
       " ('Advertisement', 1),\n",
       " ('3ª', 1),\n",
       " ('cima', 1),\n",
       " ('meses', 1),\n",
       " ('“X2', 1),\n",
       " ('mundial', 1),\n",
       " ('Outros', 1),\n",
       " ('Home', 1),\n",
       " ('Lab”', 1),\n",
       " ('PUBG', 1),\n",
       " ('Strike:', 1),\n",
       " ('Store', 1),\n",
       " ('ano', 1),\n",
       " ('PMPL:', 1),\n",
       " ('Open', 1),\n",
       " ('Desafiante', 1),\n",
       " ('Katarina', 1),\n",
       " ('Runeterra:', 1),\n",
       " ('Americas', 1),\n",
       " ('Brasil', 1),\n",
       " ('mas', 1),\n",
       " ('Top', 1),\n",
       " ('Somos', 1),\n",
       " ('Culture', 1),\n",
       " ('Videos3', 1),\n",
       " ('Genshin', 1),\n",
       " ('18', 1),\n",
       " ('Play', 1),\n",
       " ('Calendário', 1),\n",
       " ('Temporada', 1),\n",
       " ('Dan', 1),\n",
       " ('B', 1),\n",
       " ('caso,', 1),\n",
       " ('fim', 1),\n",
       " ('Caprichos', 1),\n",
       " ('Populares', 1),\n",
       " ('Cassino', 1),\n",
       " ('LEGENDS', 1),\n",
       " ('gratuito', 1),\n",
       " ('Wolverine', 1),\n",
       " ('Soluções', 1),\n",
       " ('vitória', 1),\n",
       " ('Siga', 1),\n",
       " ('Code', 1),\n",
       " ('história', 1),\n",
       " ('Abacaxi', 1),\n",
       " ('dando', 1),\n",
       " ('Marvel', 1),\n",
       " ('TIM', 1),\n",
       " ('mundo', 1),\n",
       " ('disponível', 1),\n",
       " ('Vingança', 1),\n",
       " ('PMPL', 1),\n",
       " ('“A', 1),\n",
       " ('Games4', 1),\n",
       " ('próxima', 1),\n",
       " ('campeonato', 1),\n",
       " ('partida', 1),\n",
       " ('with', 1),\n",
       " ('NOSSA', 1),\n",
       " ('triunfa', 1),\n",
       " ('mesa', 1),\n",
       " ('game', 1),\n",
       " ('Live', 1),\n",
       " ('4:', 1),\n",
       " ('ESports', 1),\n",
       " ('YoDa', 1),\n",
       " ('neste', 1),\n",
       " ('Summer', 1),\n",
       " ('categoria', 1),\n",
       " ('aumenta', 1),\n",
       " ('nova', 1),\n",
       " ('já', 1),\n",
       " ('Game', 1),\n",
       " ('Data', 1),\n",
       " ('MOBILE', 1),\n",
       " ('líder', 1),\n",
       " ('Nocaute', 1),\n",
       " ('Epic', 1),\n",
       " ('Equipe', 1)]"
      ]
     },
     "execution_count": 11,
     "metadata": {},
     "output_type": "execute_result"
    }
   ],
   "source": [
    "#Listando tuplas (palavra, qtde. de Docs) para intersecção de Valorant e CSGO\n",
    "#Neste cenário, o valor máximo do value é a quantidade retornada por rdd_valorant_csgo.count()\n",
    "result = rdd_valorant_cs_doc_freq.collect() \n",
    "sorted(result, key=lambda x : -x[1])"
   ]
  },
  {
   "cell_type": "markdown",
   "metadata": {},
   "source": [
    "#### Fazendo o recorte de palavras muito específicas ou muito comuns"
   ]
  },
  {
   "cell_type": "code",
   "execution_count": 12,
   "metadata": {},
   "outputs": [],
   "source": [
    "N = rdd.count()\n",
    "DOC_COUNT_MIN = 2 # Isso deve mudar de amostra para amostra\n",
    "DOC_COUNT_MAX = 0.7 * N # Isso deve mudar de amostra para amostra (0.7 * rdd.count())\n",
    "\n",
    "def filtra_doc_freq(item):\n",
    "    contagem = item[1]\n",
    "    return (contagem < DOC_COUNT_MAX) & (contagem >= DOC_COUNT_MIN)\n",
    "\n",
    "rdd_valorant_cs_freq_filtrado = rdd_valorant_cs_doc_freq.filter(filtra_doc_freq)"
   ]
  },
  {
   "cell_type": "code",
   "execution_count": 13,
   "metadata": {},
   "outputs": [
    {
     "data": {
      "text/plain": [
       "[('Fortnite', 2),\n",
       " ('Legends', 2),\n",
       " ('of', 2),\n",
       " ('CBLOL', 2),\n",
       " ('é', 2),\n",
       " ('o', 2),\n",
       " ('em', 2),\n",
       " ('vence', 2),\n",
       " ('semifinais', 2),\n",
       " ('Riot', 2)]"
      ]
     },
     "execution_count": 13,
     "metadata": {},
     "output_type": "execute_result"
    }
   ],
   "source": [
    "rdd_valorant_cs_freq_filtrado.take(10)"
   ]
  },
  {
   "cell_type": "markdown",
   "metadata": {},
   "source": [
    "#### Calculo do IDF para as palavras encontradas em documentos que possuem Valorant E Counter Strike"
   ]
  },
  {
   "cell_type": "code",
   "execution_count": 14,
   "metadata": {},
   "outputs": [
    {
     "data": {
      "text/plain": [
       "[('Fortnite', 4.256874025393585),\n",
       " ('Legends', 4.256874025393585),\n",
       " ('of', 4.256874025393585),\n",
       " ('CBLOL', 4.256874025393585),\n",
       " ('é', 4.256874025393585),\n",
       " ('o', 4.256874025393585),\n",
       " ('em', 4.256874025393585),\n",
       " ('vence', 4.256874025393585),\n",
       " ('semifinais', 4.256874025393585),\n",
       " ('Riot', 4.256874025393585),\n",
       " ('anuncia', 4.256874025393585),\n",
       " ('semanas', 4.256874025393585),\n",
       " ('sua', 4.256874025393585),\n",
       " ('novos', 4.256874025393585),\n",
       " ('–', 4.256874025393585),\n",
       " ('para', 4.256874025393585),\n",
       " ('chega', 4.256874025393585),\n",
       " ('Worlds', 4.256874025393585),\n",
       " ('Wild', 4.256874025393585),\n",
       " ('na', 4.256874025393585),\n",
       " ('sobre', 4.256874025393585),\n",
       " ('a', 4.256874025393585),\n",
       " ('Confira', 4.256874025393585),\n",
       " ('LoL:', 4.256874025393585),\n",
       " ('League', 4.256874025393585),\n",
       " ('-', 4.256874025393585),\n",
       " ('Seraphine', 4.256874025393585),\n",
       " ('atrás', 4.256874025393585),\n",
       " ('está', 4.256874025393585),\n",
       " ('e', 4.256874025393585),\n",
       " ('CS:GO', 4.256874025393585),\n",
       " ('da', 4.256874025393585),\n",
       " ('online', 4.256874025393585),\n",
       " ('Games', 4.256874025393585),\n",
       " ('2020', 4.256874025393585),\n",
       " ('2ª', 4.256874025393585),\n",
       " ('novo', 4.256874025393585),\n",
       " ('LBFF', 4.256874025393585),\n",
       " ('vaga', 4.256874025393585),\n",
       " ('Etapa', 4.256874025393585),\n",
       " ('do', 4.256874025393585),\n",
       " ('Rift', 4.256874025393585),\n",
       " ('com', 4.256874025393585),\n",
       " ('as', 4.256874025393585),\n",
       " ('garante', 4.256874025393585),\n",
       " ('skins', 4.256874025393585),\n",
       " ('Valorant', 4.256874025393585),\n",
       " ('final', 4.256874025393585),\n",
       " ('de', 4.256874025393585),\n",
       " ('2020:', 4.256874025393585)]"
      ]
     },
     "execution_count": 14,
     "metadata": {},
     "output_type": "execute_result"
    }
   ],
   "source": [
    "def idf(item):\n",
    "    palavra, contagem = item\n",
    "    return (palavra, log10(N/contagem))\n",
    "\n",
    "rdd_idf = rdd_valorant_cs_freq_filtrado.map(idf)\n",
    "result = rdd_idf.collect()\n",
    "sorted(result, key=lambda x : x[1])[-100:]"
   ]
  },
  {
   "cell_type": "markdown",
   "metadata": {},
   "source": [
    "#### Calculo da frequencia e relevância das palavras"
   ]
  },
  {
   "cell_type": "code",
   "execution_count": 15,
   "metadata": {
    "scrolled": true
   },
   "outputs": [],
   "source": [
    "def freq_palavra(item):\n",
    "    palavra, contagem = item\n",
    "    return (palavra, log10(1+contagem))\n",
    "\n",
    "def relevancia(item):\n",
    "    palavra, freq = item\n",
    "    freq_calc = freq_palavra(item)\n",
    "    idf_calc = idf(item)\n",
    "    relev = freq_calc[1]*idf_calc[1]\n",
    "    return (palavra, relev)"
   ]
  },
  {
   "cell_type": "code",
   "execution_count": 16,
   "metadata": {
    "scrolled": true
   },
   "outputs": [
    {
     "data": {
      "text/plain": [
       "[('-', 2.0310450761793275),\n",
       " ('2020', 2.0310450761793275),\n",
       " ('2020:', 2.0310450761793275),\n",
       " ('2ª', 2.0310450761793275),\n",
       " ('CBLOL', 2.0310450761793275),\n",
       " ('CS:GO', 2.0310450761793275),\n",
       " ('Confira', 2.0310450761793275),\n",
       " ('Etapa', 2.0310450761793275),\n",
       " ('Fortnite', 2.0310450761793275),\n",
       " ('Games', 2.0310450761793275),\n",
       " ('LBFF', 2.0310450761793275),\n",
       " ('League', 2.0310450761793275),\n",
       " ('Legends', 2.0310450761793275),\n",
       " ('LoL:', 2.0310450761793275),\n",
       " ('Rift', 2.0310450761793275),\n",
       " ('Riot', 2.0310450761793275),\n",
       " ('Seraphine', 2.0310450761793275),\n",
       " ('Valorant', 2.0310450761793275),\n",
       " ('Wild', 2.0310450761793275),\n",
       " ('Worlds', 2.0310450761793275),\n",
       " ('a', 2.0310450761793275),\n",
       " ('anuncia', 2.0310450761793275),\n",
       " ('as', 2.0310450761793275),\n",
       " ('atrás', 2.0310450761793275),\n",
       " ('chega', 2.0310450761793275),\n",
       " ('com', 2.0310450761793275),\n",
       " ('da', 2.0310450761793275),\n",
       " ('de', 2.0310450761793275),\n",
       " ('do', 2.0310450761793275),\n",
       " ('e', 2.0310450761793275),\n",
       " ('em', 2.0310450761793275),\n",
       " ('está', 2.0310450761793275),\n",
       " ('final', 2.0310450761793275),\n",
       " ('garante', 2.0310450761793275),\n",
       " ('na', 2.0310450761793275),\n",
       " ('novo', 2.0310450761793275),\n",
       " ('novos', 2.0310450761793275),\n",
       " ('o', 2.0310450761793275),\n",
       " ('of', 2.0310450761793275),\n",
       " ('online', 2.0310450761793275),\n",
       " ('para', 2.0310450761793275),\n",
       " ('semanas', 2.0310450761793275),\n",
       " ('semifinais', 2.0310450761793275),\n",
       " ('skins', 2.0310450761793275),\n",
       " ('sobre', 2.0310450761793275),\n",
       " ('sua', 2.0310450761793275),\n",
       " ('vaga', 2.0310450761793275),\n",
       " ('vence', 2.0310450761793275),\n",
       " ('é', 2.0310450761793275),\n",
       " ('–', 2.0310450761793275)]"
      ]
     },
     "execution_count": 16,
     "metadata": {},
     "output_type": "execute_result"
    }
   ],
   "source": [
    "freq_filtrado_sort_by_key_rdd = rdd_valorant_cs_freq_filtrado.sortByKey()\n",
    "rdd_relevancia_ambas_palavras_mesmo_doc = freq_filtrado_sort_by_key_rdd.map(relevancia)\n",
    "res = rdd_relevancia_ambas_palavras_mesmo_doc.collect()\n",
    "sorted(res, key=lambda x : x[1])[-100:]"
   ]
  },
  {
   "cell_type": "markdown",
   "metadata": {},
   "source": [
    "### Operacionalização para exclusão mútua entre Valorant e Counter Strike\n",
    "### Counter Strike"
   ]
  },
  {
   "cell_type": "markdown",
   "metadata": {},
   "source": [
    "#### Criando o RDD com documentos que possuem somente Counter Strike\n",
    "#### Filtrando o RDD"
   ]
  },
  {
   "cell_type": "code",
   "execution_count": 17,
   "metadata": {},
   "outputs": [
    {
     "data": {
      "text/plain": [
       "[('acusam', 5),\n",
       " ('no', 9),\n",
       " ('K62+,', 2),\n",
       " ('todas', 5),\n",
       " ('Celulares', 5),\n",
       " ('AMD', 3),\n",
       " ('Canais', 5),\n",
       " ('internet', 5),\n",
       " ('have', 2),\n",
       " ('direitos', 3)]"
      ]
     },
     "execution_count": 17,
     "metadata": {},
     "output_type": "execute_result"
    }
   ],
   "source": [
    "rdd_cs_only = rdd_cs.subtract(rdd_valorant_cs)\n",
    "rdd_cs_only_doc_freq = rdd_cs_only.flatMap(conta_palavras).reduceByKey(junta_contagens)\n",
    "rdd_cs_only_doc_freq_filtrado = rdd_cs_only_doc_freq.filter(filtra_doc_freq)\n",
    "rdd_cs_only_doc_freq_filtrado.take(10)"
   ]
  },
  {
   "cell_type": "markdown",
   "metadata": {},
   "source": [
    "#### Calculando o IDF das palavras"
   ]
  },
  {
   "cell_type": "code",
   "execution_count": 18,
   "metadata": {},
   "outputs": [
    {
     "data": {
      "text/plain": [
       "[('jogar', 4.256874025393585),\n",
       " ('carregamento', 4.256874025393585),\n",
       " ('num', 4.256874025393585),\n",
       " ('título', 4.256874025393585),\n",
       " ('final', 4.256874025393585),\n",
       " ('quando', 4.256874025393585),\n",
       " ('servidores', 4.256874025393585),\n",
       " ('produto', 4.256874025393585),\n",
       " ('Counter', 4.256874025393585),\n",
       " ('NetMovies:', 4.256874025393585),\n",
       " ('teaser', 4.256874025393585),\n",
       " ('placas', 4.256874025393585),\n",
       " ('produtos', 4.256874025393585),\n",
       " ('problemas', 4.256874025393585),\n",
       " ('personagens', 4.256874025393585),\n",
       " ('Puzzle', 4.256874025393585),\n",
       " ('temporada', 4.256874025393585),\n",
       " ('Twitter', 4.256874025393585),\n",
       " ('Qual', 4.256874025393585),\n",
       " ('anúncio', 4.256874025393585),\n",
       " ('/', 4.256874025393585),\n",
       " ('Se', 4.256874025393585),\n",
       " ('conta', 4.256874025393585),\n",
       " ('2,', 4.256874025393585),\n",
       " ('outro', 4.256874025393585),\n",
       " ('Shopping:', 4.256874025393585),\n",
       " ('dados', 4.256874025393585),\n",
       " ('células', 4.256874025393585),\n",
       " ('atenção', 4.256874025393585),\n",
       " ('Agora,', 4.256874025393585),\n",
       " ('bastante', 4.256874025393585),\n",
       " ('2º', 4.256874025393585),\n",
       " ('Tekken', 4.256874025393585),\n",
       " ('Santa', 4.256874025393585),\n",
       " ('comentários', 4.256874025393585),\n",
       " ('Steam', 4.256874025393585),\n",
       " ('segundo', 4.256874025393585),\n",
       " ('Street', 4.256874025393585),\n",
       " ('marcados', 4.256874025393585),\n",
       " ('Tags', 4.256874025393585),\n",
       " ('acordo', 4.256874025393585),\n",
       " ('tudo', 4.256874025393585),\n",
       " ('catálogo', 4.256874025393585),\n",
       " ('vezes', 4.256874025393585),\n",
       " ('Saiba', 4.256874025393585),\n",
       " ('boas', 4.256874025393585),\n",
       " ('toda', 4.256874025393585),\n",
       " ('geração,', 4.256874025393585),\n",
       " ('Conheça', 4.256874025393585),\n",
       " ('designer', 4.256874025393585),\n",
       " ('US$', 4.256874025393585),\n",
       " ('HOME', 4.256874025393585),\n",
       " ('crítica', 4.256874025393585),\n",
       " ('isso', 4.256874025393585),\n",
       " ('brinde', 4.256874025393585),\n",
       " ('séries', 4.256874025393585),\n",
       " ('TB', 4.256874025393585),\n",
       " ('K62', 4.256874025393585),\n",
       " ('algumas', 4.256874025393585),\n",
       " ('esta', 4.256874025393585),\n",
       " ('Alexa', 4.256874025393585),\n",
       " ('permite', 4.256874025393585),\n",
       " ('brasileiros', 4.256874025393585),\n",
       " ('upgrade', 4.256874025393585),\n",
       " ('algo', 4.256874025393585),\n",
       " ('Há', 4.256874025393585),\n",
       " ('meses', 4.256874025393585),\n",
       " ('especificações', 4.256874025393585),\n",
       " ('Em', 4.256874025393585),\n",
       " ('receber', 4.256874025393585),\n",
       " ('tanto', 4.256874025393585),\n",
       " ('contar', 4.256874025393585),\n",
       " ('porque', 4.256874025393585),\n",
       " ('apoio', 4.256874025393585),\n",
       " ('Home', 4.256874025393585),\n",
       " ('Na', 4.256874025393585),\n",
       " ('ano', 4.256874025393585),\n",
       " ('2.099', 4.256874025393585),\n",
       " ('Play', 4.256874025393585),\n",
       " ('disso,', 4.256874025393585),\n",
       " ('for', 4.256874025393585),\n",
       " ('lá', 4.256874025393585),\n",
       " ('liberadas', 4.256874025393585),\n",
       " ('Música', 4.256874025393585),\n",
       " ('the', 4.256874025393585),\n",
       " ('Europa', 4.256874025393585),\n",
       " ('Menu', 4.256874025393585),\n",
       " ('Gamer', 4.256874025393585),\n",
       " ('compra', 4.256874025393585),\n",
       " ('Fantasy', 4.256874025393585),\n",
       " ('espaço', 4.256874025393585),\n",
       " ('abaixo', 4.256874025393585),\n",
       " ('1º', 4.256874025393585),\n",
       " ('Fórum', 4.256874025393585),\n",
       " ('ferramentas', 4.256874025393585),\n",
       " ('Resenhas', 4.256874025393585),\n",
       " ('Já', 4.256874025393585),\n",
       " ('atual', 4.256874025393585),\n",
       " ('todo', 4.256874025393585),\n",
       " ('Equipe', 4.256874025393585)]"
      ]
     },
     "execution_count": 18,
     "metadata": {},
     "output_type": "execute_result"
    }
   ],
   "source": [
    "rdd_cs_only_idf = rdd_cs_only_doc_freq_filtrado.map(idf)\n",
    "result = rdd_cs_only_idf.collect()\n",
    "sorted(result, key=lambda x : x[1])[-100:]"
   ]
  },
  {
   "cell_type": "markdown",
   "metadata": {},
   "source": [
    "#### Calculando a relevância das palavras"
   ]
  },
  {
   "cell_type": "code",
   "execution_count": null,
   "metadata": {},
   "outputs": [],
   "source": [
    "cs_filtrado_sort_by_key_rdd = rdd_cs_only_doc_freq_filtrado.sortByKey()\n",
    "rdd_relevancia_cs_only = cs_filtrado_sort_by_key_rdd.map(relevancia)\n",
    "res = rdd_relevancia_cs_only.collect()\n",
    "sorted(res, key=lambda x : x[1])[-100:]"
   ]
  },
  {
   "cell_type": "markdown",
   "metadata": {},
   "source": [
    "### Valorant"
   ]
  },
  {
   "cell_type": "markdown",
   "metadata": {},
   "source": [
    "#### Criando o RDD com documentos que possuem somente Valorant\n",
    "#### Filtrando o RDD"
   ]
  },
  {
   "cell_type": "code",
   "execution_count": null,
   "metadata": {},
   "outputs": [],
   "source": [
    "rdd_valorant_only = rdd_valorant.subtract(rdd_valorant_cs)\n",
    "rdd_valorant_only_doc_freq = rdd_valorant_only.flatMap(conta_palavras).reduceByKey(junta_contagens)\n",
    "rdd_valorant_only_doc_freq_filtrado = rdd_valorant_only_doc_freq.filter(filtra_doc_freq)\n",
    "rdd_valorant_only_doc_freq_filtrado.take(10)"
   ]
  },
  {
   "cell_type": "markdown",
   "metadata": {},
   "source": [
    "#### Calculando o IDF das palavras"
   ]
  },
  {
   "cell_type": "code",
   "execution_count": null,
   "metadata": {
    "scrolled": true
   },
   "outputs": [],
   "source": [
    "rdd_valorant_only_idf = rdd_valorant_only_doc_freq_filtrado.map(idf)\n",
    "result = rdd_valorant_only_idf.collect()\n",
    "sorted(result, key=lambda x : x[1])[-100:]"
   ]
  },
  {
   "cell_type": "markdown",
   "metadata": {},
   "source": [
    "#### Calculando a relevância das palavras"
   ]
  },
  {
   "cell_type": "code",
   "execution_count": null,
   "metadata": {},
   "outputs": [],
   "source": [
    "valorant_filtrado_sort_by_key_rdd = rdd_valorant_only_doc_freq_filtrado.sortByKey()\n",
    "rdd_relevancia_valorant_only = valorant_filtrado_sort_by_key_rdd.map(relevancia)\n",
    "res = rdd_relevancia_valorant_only.collect()\n",
    "sorted(res, key=lambda x : x[1])[-100:]"
   ]
  },
  {
   "cell_type": "code",
   "execution_count": null,
   "metadata": {},
   "outputs": [],
   "source": [
    "sc.stop()"
   ]
  },
  {
   "cell_type": "code",
   "execution_count": null,
   "metadata": {},
   "outputs": [],
   "source": []
  }
 ],
 "metadata": {
  "kernelspec": {
   "display_name": "Python 3",
   "language": "python",
   "name": "python3"
  },
  "language_info": {
   "codemirror_mode": {
    "name": "ipython",
    "version": 3
   },
   "file_extension": ".py",
   "mimetype": "text/x-python",
   "name": "python",
   "nbconvert_exporter": "python",
   "pygments_lexer": "ipython3",
   "version": "3.8.5"
  }
 },
 "nbformat": 4,
 "nbformat_minor": 4
}
