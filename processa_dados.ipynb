{
 "cells": [
  {
   "cell_type": "markdown",
   "metadata": {},
   "source": [
    "# Projeto MegaDados\n",
    "\n",
    "**Alunos:**\n",
    "    \n",
    "+ Rafael Almada\n",
    "+ Warlen Cesar Rodrigues\n",
    "    \n",
    "**Professor:** Fábio Ayres"
   ]
  },
  {
   "cell_type": "code",
   "execution_count": 130,
   "metadata": {},
   "outputs": [],
   "source": [
    "import pyspark\n",
    "from math import log10"
   ]
  },
  {
   "cell_type": "code",
   "execution_count": 131,
   "metadata": {},
   "outputs": [],
   "source": [
    "sc = pyspark.SparkContext(appName='Projeto e-sports')"
   ]
  },
  {
   "cell_type": "code",
   "execution_count": 132,
   "metadata": {
    "scrolled": false
   },
   "outputs": [
    {
     "data": {
      "text/html": [
       "\n",
       "        <div>\n",
       "            <p><b>SparkContext</b></p>\n",
       "\n",
       "            <p><a href=\"http://warlenrodrigues.domain.name:4042\">Spark UI</a></p>\n",
       "\n",
       "            <dl>\n",
       "              <dt>Version</dt>\n",
       "                <dd><code>v3.0.1</code></dd>\n",
       "              <dt>Master</dt>\n",
       "                <dd><code>local[*]</code></dd>\n",
       "              <dt>AppName</dt>\n",
       "                <dd><code>Projeto e-sports</code></dd>\n",
       "            </dl>\n",
       "        </div>\n",
       "        "
      ],
      "text/plain": [
       "<SparkContext master=local[*] appName=Projeto e-sports>"
      ]
     },
     "execution_count": 132,
     "metadata": {},
     "output_type": "execute_result"
    }
   ],
   "source": [
    "sc"
   ]
  },
  {
   "cell_type": "code",
   "execution_count": 133,
   "metadata": {},
   "outputs": [
    {
     "data": {
      "text/plain": [
       "MapPartitionsRDD[2] at mapPartitions at SerDeUtil.scala:244"
      ]
     },
     "execution_count": 133,
     "metadata": {},
     "output_type": "execute_result"
    }
   ],
   "source": [
    "rdd = sc.sequenceFile('part-00000')\n",
    "rdd"
   ]
  },
  {
   "cell_type": "code",
   "execution_count": 134,
   "metadata": {},
   "outputs": [],
   "source": [
    "# result = rdd.take(10)\n",
    "# result[0]"
   ]
  },
  {
   "cell_type": "markdown",
   "metadata": {},
   "source": [
    "### Montando RDD para Valorant"
   ]
  },
  {
   "cell_type": "code",
   "execution_count": 135,
   "metadata": {},
   "outputs": [
    {
     "data": {
      "text/plain": [
       "10"
      ]
     },
     "execution_count": 135,
     "metadata": {},
     "output_type": "execute_result"
    }
   ],
   "source": [
    "#Pegar os documentos que possuem a palavra Valorant\n",
    "def getValorantWord(item):\n",
    "    if 'Valorant' in item[1]:\n",
    "        return item\n",
    "    \n",
    "rdd_valorant = rdd.filter(getValorantWord)\n",
    "rdd_valorant.count()"
   ]
  },
  {
   "cell_type": "markdown",
   "metadata": {},
   "source": [
    "### Montando RDD para Counter Strike"
   ]
  },
  {
   "cell_type": "code",
   "execution_count": 136,
   "metadata": {},
   "outputs": [
    {
     "data": {
      "text/plain": [
       "14"
      ]
     },
     "execution_count": 136,
     "metadata": {},
     "output_type": "execute_result"
    }
   ],
   "source": [
    "#Pegar os documentos que possuem a palavra Counter Strike\n",
    "def getCStWord(item):\n",
    "    if 'Counter Strike' in item[1]:\n",
    "        return item\n",
    "    \n",
    "rdd_csgo = rdd.filter(getCStWord)\n",
    "rdd_csgo.count()"
   ]
  },
  {
   "cell_type": "markdown",
   "metadata": {},
   "source": [
    "### Operacionalização para Intersecção entre Valorant e Counter Strike"
   ]
  },
  {
   "cell_type": "code",
   "execution_count": 137,
   "metadata": {},
   "outputs": [
    {
     "data": {
      "text/plain": [
       "1"
      ]
     },
     "execution_count": 137,
     "metadata": {},
     "output_type": "execute_result"
    }
   ],
   "source": [
    "#Pegar somente os documentos que possuem as duas palavras \n",
    "rdd_valorant_csgo = rdd_valorant.intersection(rdd_csgo)\n",
    "rdd_valorant_csgo.count()"
   ]
  },
  {
   "cell_type": "markdown",
   "metadata": {},
   "source": [
    "#### Operacionalizando frequência de palavras (1 doc = 1 contagem)"
   ]
  },
  {
   "cell_type": "code",
   "execution_count": 138,
   "metadata": {},
   "outputs": [],
   "source": [
    "def conta_palavras(item):\n",
    "    url, conteudo = item\n",
    "    palavras = conteudo.strip().split()\n",
    "    return [(palavra, 1) for palavra in set(palavras)]\n",
    "\n",
    "def junta_contagens(nova_contagem, contagem_atual):\n",
    "    return nova_contagem + contagem_atual\n",
    "\n",
    "rdd_valorant_csgo_doc_freq = rdd_valorant_csgo.flatMap(conta_palavras).reduceByKey(junta_contagens)"
   ]
  },
  {
   "cell_type": "code",
   "execution_count": 139,
   "metadata": {
    "scrolled": true
   },
   "outputs": [
    {
     "data": {
      "text/plain": [
       "[('habitualmente,', 1),\n",
       " ('Blade', 1),\n",
       " ('assim', 1),\n",
       " ('no', 1),\n",
       " ('Como', 1),\n",
       " ('Legends', 1),\n",
       " ('RK', 1),\n",
       " ('frequentes', 1),\n",
       " ('Assinaturas', 1),\n",
       " ('10', 1),\n",
       " ('direitos', 1),\n",
       " ('Serviços', 1),\n",
       " ('Combos', 1),\n",
       " ('podem', 1),\n",
       " ('Mouses', 1),\n",
       " ('respondido.', 1),\n",
       " ('Awakening', 1),\n",
       " ('of', 1),\n",
       " ('perfil', 1),\n",
       " ('donos.', 1),\n",
       " ('tíquete', 1),\n",
       " ('BRL', 1),\n",
       " ('recente', 1),\n",
       " ('Fortnite', 1),\n",
       " ('mesmo', 1),\n",
       " ('Suporte', 1),\n",
       " ('Os', 1),\n",
       " ('Troca', 1),\n",
       " ('dentro', 1),\n",
       " ('automatização', 1),\n",
       " ('lista', 1),\n",
       " ('Licenças', 1),\n",
       " ('logotipos', 1),\n",
       " ('Montarias', 1),\n",
       " ('Alz', 1),\n",
       " ('Fechar', 1),\n",
       " ('Teamfight', 1),\n",
       " ('Fire', 1),\n",
       " ('Grand', 1),\n",
       " ('ser', 1),\n",
       " ('categorias', 1),\n",
       " ('(email', 1),\n",
       " ('sendo', 1),\n",
       " ('Perguntas', 1),\n",
       " ('conta', 1),\n",
       " ('DFG', 1),\n",
       " ('filipecobr', 1),\n",
       " ('propriedade', 1),\n",
       " ('R$250', 1),\n",
       " ('uso', 1),\n",
       " ('necessário.', 1),\n",
       " ('Jogos', 1),\n",
       " ('and', 1),\n",
       " ('Política', 1),\n",
       " ('UP', 1),\n",
       " ('espera.', 1),\n",
       " ('War', 1),\n",
       " ('215', 1),\n",
       " ('(USD)', 1),\n",
       " ('34', 1),\n",
       " ('Steam', 1),\n",
       " ('Gift', 1),\n",
       " ('Quem', 1),\n",
       " ('Todos', 1),\n",
       " ('favor,', 1),\n",
       " ('Black', 1),\n",
       " ('Skins', 1),\n",
       " ('World', 1),\n",
       " ('ticket', 1),\n",
       " ('English', 1),\n",
       " ('Poderá', 1),\n",
       " ('IMPORTANTE:', 1),\n",
       " ('formas', 1),\n",
       " ('Elojob', 1),\n",
       " ('Carrinho', 1),\n",
       " ('Blizzard', 1),\n",
       " ('(EUR)', 1),\n",
       " ('finalizado', 1),\n",
       " ('Smite', 1),\n",
       " ('DOTA', 1),\n",
       " ('Points', 1),\n",
       " ('Strike', 1),\n",
       " ('funciona?', 1),\n",
       " ('Masters', 1),\n",
       " ('2', 1),\n",
       " ('o', 1),\n",
       " ('City', 1),\n",
       " ('Outras', 1),\n",
       " ('registradas', 1),\n",
       " ('Point', 1),\n",
       " ('GO', 1),\n",
       " ('Online', 1),\n",
       " ('Automatização', 1),\n",
       " ('criptomoedas', 1),\n",
       " ('verificados', 1),\n",
       " ('Mais', 1),\n",
       " ('Nome', 1),\n",
       " ('Hearthstone', 1),\n",
       " ('ONE', 1),\n",
       " ('Meu', 1),\n",
       " ('Softwares', 1),\n",
       " ('4', 1),\n",
       " ('DIAMANTE', 1),\n",
       " ('Riot', 1),\n",
       " ('crise', 1),\n",
       " ('Up', 1),\n",
       " ('Stars', 1),\n",
       " ('230', 1),\n",
       " ('marcas', 1),\n",
       " ('+', 1),\n",
       " ('DECK', 1),\n",
       " ('Litecoin', 1),\n",
       " ('Abrir', 1),\n",
       " ('Minhas', 1),\n",
       " ('eles', 1),\n",
       " ('With', 1),\n",
       " ('eBooks', 1),\n",
       " ('abra', 1),\n",
       " ('forma', 1),\n",
       " ('crie', 1),\n",
       " ('JUKES', 1),\n",
       " ('menos', 1),\n",
       " ('será', 1),\n",
       " ('não', 1),\n",
       " ('250', 1),\n",
       " ('Menor', 1),\n",
       " ('reservados', 1),\n",
       " ('Tanks', 1),\n",
       " ('Destiny', 1),\n",
       " ('por', 1),\n",
       " ('Bitcoin', 1),\n",
       " ('para', 1),\n",
       " ('Fictício', 1),\n",
       " ('bitcoins', 1),\n",
       " ('cancelar', 1),\n",
       " ('os', 1),\n",
       " ('Digital)', 1),\n",
       " ('Playstation', 1),\n",
       " ('Tarkov', 1),\n",
       " ('Fantasia', 1),\n",
       " ('que', 1),\n",
       " ('100', 1),\n",
       " ('Premium', 1),\n",
       " ('conformes,', 1),\n",
       " ('Gathering', 1),\n",
       " ('for', 1),\n",
       " ('até', 1),\n",
       " ('PlayStation', 1),\n",
       " ('Termos', 1),\n",
       " ('na', 1),\n",
       " ('coronavirus,', 1),\n",
       " ('rotineiros,', 1),\n",
       " ('poderá', 1),\n",
       " ('Carregando...', 1),\n",
       " ('360', 1),\n",
       " ('Assine', 1),\n",
       " ('Presentes', 1),\n",
       " ('(clique', 1),\n",
       " ('Nº', 1),\n",
       " ('compra', 1),\n",
       " ('página', 1),\n",
       " ('suporte@dfg.com.br', 1),\n",
       " ('Blank', 1),\n",
       " ('reembolso', 1),\n",
       " ('suporte', 1),\n",
       " ('Quest', 1),\n",
       " ('Anunciar', 1),\n",
       " ('Opções', 1),\n",
       " ('1,', 1),\n",
       " ('Conta', 1),\n",
       " ('Usados', 1),\n",
       " ('Dollar', 1),\n",
       " ('atendimento', 1),\n",
       " ('compras', 1),\n",
       " ('como', 1),\n",
       " ('Registrar', 1),\n",
       " ('Cards', 1),\n",
       " ('extremamente', 1),\n",
       " ('Free', 1),\n",
       " ('momento', 1),\n",
       " ('Coins', 1),\n",
       " ('(TEM', 1),\n",
       " ('seu', 1),\n",
       " ('Por', 1),\n",
       " ('CARTAS', 1),\n",
       " ('sobre', 1),\n",
       " ('Guias,', 1),\n",
       " ('Minecraft', 1),\n",
       " ('a', 1),\n",
       " ('Albion', 1),\n",
       " ('LOL', 1),\n",
       " ('Warcraft', 1),\n",
       " ('depósitos', 1),\n",
       " ('resposta.', 1),\n",
       " ('GTA', 1),\n",
       " ('pedido!', 1),\n",
       " ('MENU', 1),\n",
       " ('Runescape', 1),\n",
       " ('Xbox', 1),\n",
       " ('Scripts', 1),\n",
       " ('Novos', 1),\n",
       " ('Impact', 1),\n",
       " ('Rucoy', 1),\n",
       " ('continuam', 1),\n",
       " ('3', 1),\n",
       " ('Com', 1),\n",
       " ('Relevância', 1),\n",
       " ('Estamos', 1),\n",
       " ('Adventure', 1),\n",
       " ('from', 1),\n",
       " ('Next', 1),\n",
       " ('vendidos', 1),\n",
       " ('à', 1),\n",
       " ('Legend', 1),\n",
       " ('resumida', 1),\n",
       " ('©', 1),\n",
       " ('Maior', 1),\n",
       " ('situação.', 1),\n",
       " ('sobrecarregados', 1),\n",
       " ('diretamente', 1),\n",
       " ('favor!', 1),\n",
       " ('todas', 1),\n",
       " ('Celulares', 1),\n",
       " ('outros', 1),\n",
       " ('funcionando', 1),\n",
       " ('qualquer', 1),\n",
       " ('The', 1),\n",
       " ('Pokemon', 1),\n",
       " ('vender?', 1),\n",
       " ('Acessórios', 1),\n",
       " ('preço', 1),\n",
       " ('-', 1),\n",
       " ('feitos.', 1),\n",
       " ('Lords', 1),\n",
       " ('Cotações', 1),\n",
       " ('Criar', 1),\n",
       " ('funcionários', 1),\n",
       " ('Icarus', 1),\n",
       " ('Moedas', 1),\n",
       " ('Informações', 1),\n",
       " ('League', 1),\n",
       " ('Português', 1),\n",
       " ('recompensa', 1),\n",
       " ('MU', 1),\n",
       " ('mais', 1),\n",
       " ('devido', 1),\n",
       " ('ver)', 1),\n",
       " ('Combat', 1),\n",
       " ('TODAS', 1),\n",
       " ('Port.', 1),\n",
       " ('assuntos', 1),\n",
       " ('Assunto', 1),\n",
       " ('Dash', 1),\n",
       " ('antigo', 1),\n",
       " ('DE', 1),\n",
       " ('tratados', 1),\n",
       " ('Trocar', 1),\n",
       " ('urgência!', 1),\n",
       " ('Email', 1),\n",
       " ('Habbo', 1),\n",
       " ('Google', 1),\n",
       " ('Descreva', 1),\n",
       " ('Fifa', 1),\n",
       " ('Contate', 1),\n",
       " ('Minha', 1),\n",
       " ('vendas', 1),\n",
       " ('confirmado)', 1),\n",
       " ('15', 1),\n",
       " ('estão', 1),\n",
       " ('LEVEL', 1),\n",
       " ('Previous', 1),\n",
       " ('Duty', 1),\n",
       " ('SKINS', 1),\n",
       " ('funciona', 1),\n",
       " ('ofertas', 1),\n",
       " ('Barata', 1),\n",
       " ('fila', 1),\n",
       " ('melhores', 1),\n",
       " ('Wakfu', 1),\n",
       " ('reembolsos', 1),\n",
       " ('Metin', 1),\n",
       " ('Anúncios', 1),\n",
       " ('Tudo', 1),\n",
       " ('Categorias', 1),\n",
       " ('6', 1),\n",
       " ('Crossfire', 1),\n",
       " ('Soul', 1),\n",
       " ('Vender', 1),\n",
       " ('e', 1),\n",
       " ('receba', 1),\n",
       " ('(BRL)', 1),\n",
       " ('condições', 1),\n",
       " ('Clans', 1),\n",
       " ('da', 1),\n",
       " ('R$', 1),\n",
       " ('Tibia', 1),\n",
       " ('nossa', 1),\n",
       " ('Cabal', 1),\n",
       " ('Apex', 1),\n",
       " ('Games', 1),\n",
       " ('apenas', 1),\n",
       " ('Colecionáveis', 1),\n",
       " ('Boost', 1),\n",
       " ('Dogecoin', 1),\n",
       " ('champs', 1),\n",
       " ('Mobile', 1),\n",
       " ('Digimon', 1),\n",
       " ('Assinar', 1),\n",
       " ('Contas', 1),\n",
       " ('bancários', 1),\n",
       " ('tickets', 1),\n",
       " ('Overwatch', 1),\n",
       " ('Diamante', 1),\n",
       " ('carteira', 1),\n",
       " ('seus', 1),\n",
       " ('Cash', 1),\n",
       " ('Coach,', 1),\n",
       " ('Priston', 1),\n",
       " ('recompensas', 1),\n",
       " ('Saint', 1),\n",
       " ('Carta', 1),\n",
       " ('rotineiros', 1),\n",
       " ('confirmado', 1),\n",
       " ('Carregando', 1),\n",
       " ('500m', 1),\n",
       " ('Programa', 1),\n",
       " ('extrema', 1),\n",
       " ('Warface', 1),\n",
       " ('Ragnarok', 1),\n",
       " ('Formas', 1),\n",
       " ('Endereço', 1),\n",
       " ('Melhor', 1),\n",
       " ('platina', 1),\n",
       " ('Razer', 1),\n",
       " ('privacidade', 1),\n",
       " ('Consoles', 1),\n",
       " ('PokeXGames', 1),\n",
       " ('Outros', 1),\n",
       " ('Royale', 1),\n",
       " ('20', 1),\n",
       " ('PUBG', 1),\n",
       " ('Clash', 1),\n",
       " ('desnecessários,', 1),\n",
       " ('do', 1),\n",
       " ('Yang', 1),\n",
       " ('Não', 1),\n",
       " ('(Mídia', 1),\n",
       " ('Buscar', 1),\n",
       " ('Promocionais', 1),\n",
       " ('Seu', 1),\n",
       " ('serão', 1),\n",
       " ('pagamento', 1),\n",
       " ('dias', 1),\n",
       " ('Magic', 1),\n",
       " ('Tale', 1),\n",
       " ('Desert', 1),\n",
       " ('Criptomoeda', 1),\n",
       " ('Play', 1),\n",
       " ('Itens', 1),\n",
       " ('Dofus', 1),\n",
       " ('Kamas', 1),\n",
       " ('Freelancers', 1),\n",
       " ('gente', 1),\n",
       " ('Tactics', 1),\n",
       " ('se', 1),\n",
       " ('sem', 1),\n",
       " ('Gold', 1),\n",
       " ('dfg', 1),\n",
       " ('DDTank', 1),\n",
       " ('Genshin', 1),\n",
       " ('são', 1),\n",
       " ('continuar', 1),\n",
       " ('Entrar', 1),\n",
       " ('Escape', 1),\n",
       " ('ADD)', 1),\n",
       " ('No', 1),\n",
       " ('com', 1),\n",
       " ('OURO', 1),\n",
       " ('respectivos', 1),\n",
       " ('por:', 1),\n",
       " ('Zenys', 1),\n",
       " ('as', 1),\n",
       " ('Ver', 1),\n",
       " ('Perfect', 1),\n",
       " ('existem', 1),\n",
       " ('Seiya', 1),\n",
       " ('ainda', 1),\n",
       " ('úteis', 1),\n",
       " ('MIL', 1),\n",
       " ('KKs', 1),\n",
       " ('skins', 1),\n",
       " ('Mensagem', 1),\n",
       " ('Teras', 1),\n",
       " ('>', 1),\n",
       " ('reclamações', 1),\n",
       " ('Summoners', 1),\n",
       " ('Cursos', 1),\n",
       " ('levar', 1),\n",
       " ('prazo,', 1),\n",
       " ('Ethereum', 1),\n",
       " ('Valorant', 1),\n",
       " ('Dragon', 1),\n",
       " ('normalmente!', 1),\n",
       " ('atrasar', 1),\n",
       " ('Call', 1),\n",
       " ('estes', 1),\n",
       " ('0', 1),\n",
       " ('Euro', 1),\n",
       " ('Brawl', 1),\n",
       " ('Prata', 1),\n",
       " ('site', 1),\n",
       " ('Patente', 1),\n",
       " ('nos', 1),\n",
       " ('Your', 1),\n",
       " ('E', 1),\n",
       " ('Counter', 1),\n",
       " ('Ordenar', 1),\n",
       " ('Treinamentos', 1),\n",
       " ('enviar', 1),\n",
       " ('serviços', 1),\n",
       " ('Arms', 1),\n",
       " ('CONTA', 1),\n",
       " ('Real', 1),\n",
       " ('Epic', 1),\n",
       " ('resolvidas,', 1),\n",
       " ('somos', 1),\n",
       " ('problema', 1),\n",
       " ('de', 1),\n",
       " ('Seafight', 1),\n",
       " ('×', 1)]"
      ]
     },
     "execution_count": 139,
     "metadata": {},
     "output_type": "execute_result"
    }
   ],
   "source": [
    "#Listando tuplas (palavra, qtde. de Docs) para intersecção de Valorant e CSGO\n",
    "#Neste cenário, o valor máximo do value é a quantidade retornada por rdd_valorant_csgo.count()\n",
    "result = rdd_valorant_csgo_doc_freq.collect() \n",
    "sorted(result, key=lambda x : -x[1])"
   ]
  },
  {
   "cell_type": "markdown",
   "metadata": {},
   "source": [
    "#### Fazendo o recorte de palavras muito específicas ou muito comuns"
   ]
  },
  {
   "cell_type": "code",
   "execution_count": 140,
   "metadata": {},
   "outputs": [],
   "source": [
    "DOC_COUNT_MIN = 2 # Isso deve mudar de amostra para amostra\n",
    "DOC_COUNT_MAX = 0.7 * rdd.count() # Isso deve mudar de amostra para amostra (0.7 * rdd.count())\n",
    "\n",
    "def filtra_doc_freq(item):\n",
    "    contagem = item[1]\n",
    "    return (contagem < DOC_COUNT_MAX) & (contagem >= DOC_COUNT_MIN)\n",
    "\n",
    "rdd_valorant_csgo_freq_filtrado = rdd_valorant_csgo_doc_freq.filter(filtra_doc_freq)"
   ]
  },
  {
   "cell_type": "code",
   "execution_count": 141,
   "metadata": {},
   "outputs": [
    {
     "data": {
      "text/plain": [
       "[]"
      ]
     },
     "execution_count": 141,
     "metadata": {},
     "output_type": "execute_result"
    }
   ],
   "source": [
    "rdd_valorant_csgo_freq_filtrado.take(10)"
   ]
  },
  {
   "cell_type": "markdown",
   "metadata": {},
   "source": [
    "#### Calculo do IDF para as palavras encontradas em documentos que possuem Valorant E Counter Strike"
   ]
  },
  {
   "cell_type": "code",
   "execution_count": 142,
   "metadata": {},
   "outputs": [
    {
     "data": {
      "text/plain": [
       "[]"
      ]
     },
     "execution_count": 142,
     "metadata": {},
     "output_type": "execute_result"
    }
   ],
   "source": [
    "def idf(item):\n",
    "    palavra, contagem = item\n",
    "    return (palavra, log10(N/contagem))\n",
    "\n",
    "rdd_idf = rdd_valorant_csgo_freq_filtrado.map(idf)\n",
    "result = rdd_idf.collect()\n",
    "sorted(result, key=lambda x : x[1])[-100:]"
   ]
  },
  {
   "cell_type": "markdown",
   "metadata": {},
   "source": [
    "#### Calculo da frequencia e relevância das palavras"
   ]
  },
  {
   "cell_type": "code",
   "execution_count": 143,
   "metadata": {
    "scrolled": true
   },
   "outputs": [],
   "source": [
    "def freq_palavra(item):\n",
    "    palavra, contagem = item\n",
    "    return (palavra, log10(1+contagem))\n",
    "\n",
    "def relevancia(item):\n",
    "    palavra, freq = item\n",
    "    freq_calc = freq_palavra(item)\n",
    "    idf_calc = idf(item)\n",
    "    relev = freq_calc[1]*idf_calc[1]\n",
    "    return (palavra, relev)"
   ]
  },
  {
   "cell_type": "code",
   "execution_count": 144,
   "metadata": {
    "scrolled": true
   },
   "outputs": [
    {
     "data": {
      "text/plain": [
       "[]"
      ]
     },
     "execution_count": 144,
     "metadata": {},
     "output_type": "execute_result"
    }
   ],
   "source": [
    "freq_filtrado_sort_by_key_rdd = rdd_valorant_csgo_freq_filtrado.sortByKey()\n",
    "rdd_relevancia_ambas_palavras_mesmo_doc = freq_filtrado_sort_by_key_rdd.map(relevancia)\n",
    "res = rdd_relevancia_ambas_palavras_mesmo_doc.collect()\n",
    "sorted(res, key=lambda x : x[1])[-100:]"
   ]
  },
  {
   "cell_type": "markdown",
   "metadata": {},
   "source": [
    "### Operacionalização para exclusão mútua entre Valorant e Counter Strike\n",
    "### Counter Strike"
   ]
  },
  {
   "cell_type": "markdown",
   "metadata": {},
   "source": [
    "#### Criando o RDD com documentos que possuem somente Counter Strike\n",
    "#### Filtrando o RDD"
   ]
  },
  {
   "cell_type": "code",
   "execution_count": 145,
   "metadata": {},
   "outputs": [
    {
     "data": {
      "text/plain": [
       "[('Joomla', 5),\n",
       " ('no', 13),\n",
       " ('Life', 6),\n",
       " ('fulls', 5),\n",
       " ('Bate-papo', 5),\n",
       " ('links', 5),\n",
       " ('Tales', 5),\n",
       " ('+]', 5),\n",
       " ('of', 12),\n",
       " ('Dúvidas]', 5)]"
      ]
     },
     "execution_count": 145,
     "metadata": {},
     "output_type": "execute_result"
    }
   ],
   "source": [
    "rdd_csgo_only = rdd_csgo.subtract(rdd_valorant_csgo)\n",
    "rdd_csgo_only_doc_freq = rdd_csgo_only.flatMap(conta_palavras).reduceByKey(junta_contagens)\n",
    "rdd_csgo_only_doc_freq_filtrado = rdd_csgo_only_doc_freq.filter(filtra_doc_freq)\n",
    "rdd_csgo_only_doc_freq_filtrado.take(10)"
   ]
  },
  {
   "cell_type": "markdown",
   "metadata": {},
   "source": [
    "#### Calculando o IDF das palavras"
   ]
  },
  {
   "cell_type": "code",
   "execution_count": 146,
   "metadata": {},
   "outputs": [
    {
     "data": {
      "text/plain": [
       "[('vou', 4.256874025393585),\n",
       " ('25', 4.256874025393585),\n",
       " ('Jogo', 4.256874025393585),\n",
       " ('papel', 4.256874025393585),\n",
       " ('Próximo', 4.256874025393585),\n",
       " ('marcados', 4.256874025393585),\n",
       " ('Login', 4.256874025393585),\n",
       " ('Nada', 4.256874025393585),\n",
       " ('Tema', 4.256874025393585),\n",
       " ('Vender', 4.256874025393585),\n",
       " ('Ultimate', 4.256874025393585),\n",
       " ('melhores', 4.256874025393585),\n",
       " ('fps', 4.256874025393585),\n",
       " ('Ram', 4.256874025393585),\n",
       " ('Jogar?', 4.256874025393585),\n",
       " ('TELEFONE:', 4.256874025393585),\n",
       " ('condições', 4.256874025393585),\n",
       " (\"Playerunknown's\", 4.256874025393585),\n",
       " ('#1', 4.256874025393585),\n",
       " ('isso', 4.256874025393585),\n",
       " ('33', 4.256874025393585),\n",
       " ('personalizados', 4.256874025393585),\n",
       " ('JavaScript', 4.256874025393585),\n",
       " ('Erro', 4.256874025393585),\n",
       " ('HOME', 4.256874025393585),\n",
       " ('comentar.', 4.256874025393585),\n",
       " ('R$', 4.256874025393585),\n",
       " ('livro', 4.256874025393585),\n",
       " ('Mouse', 4.256874025393585),\n",
       " ('Cooler', 4.256874025393585),\n",
       " ('Sexta', 4.256874025393585),\n",
       " ('Placa', 4.256874025393585),\n",
       " ('|Tutorial|', 4.256874025393585),\n",
       " ('adrianodjs', 4.256874025393585),\n",
       " ('resultados', 4.256874025393585),\n",
       " ('|Release|', 4.256874025393585),\n",
       " ('Tópico:', 4.256874025393585),\n",
       " ('server', 4.256874025393585),\n",
       " ('conversar', 4.256874025393585),\n",
       " ('brasileiros', 4.256874025393585),\n",
       " ('desde', 4.256874025393585),\n",
       " ('to', 4.256874025393585),\n",
       " ('vc', 4.256874025393585),\n",
       " ('3227-2549', 4.256874025393585),\n",
       " ('Sábados', 4.256874025393585),\n",
       " ('esse', 4.256874025393585),\n",
       " ('partindo', 4.256874025393585),\n",
       " ('ordenada.', 4.256874025393585),\n",
       " ('nada', 4.256874025393585),\n",
       " ('apoio', 4.256874025393585),\n",
       " ('Condições', 4.256874025393585),\n",
       " ('read', 4.256874025393585),\n",
       " ('movie', 4.256874025393585),\n",
       " ('Seu', 4.256874025393585),\n",
       " ('Computador', 4.256874025393585),\n",
       " ('Geforce', 4.256874025393585),\n",
       " ('Smartphone', 4.256874025393585),\n",
       " ('╳', 4.256874025393585),\n",
       " ('ordenar', 4.256874025393585),\n",
       " (\"'ordem\", 4.256874025393585),\n",
       " ('de(o)', 4.256874025393585),\n",
       " ('|Respondido|', 4.256874025393585),\n",
       " ('livre|', 4.256874025393585),\n",
       " ('|Source|', 4.256874025393585),\n",
       " ('Agradecido', 4.256874025393585),\n",
       " ('gameplay', 4.256874025393585),\n",
       " ('Play', 4.256874025393585),\n",
       " ('up', 4.256874025393585),\n",
       " ('user', 4.256874025393585),\n",
       " ('will', 4.256874025393585),\n",
       " ('celular', 4.256874025393585),\n",
       " ('lugar', 4.256874025393585),\n",
       " ('eu', 4.256874025393585),\n",
       " ('virtual', 4.256874025393585),\n",
       " ('22.944.731/0001-28', 4.256874025393585),\n",
       " ('Disco', 4.256874025393585),\n",
       " ('data.variation.availability_html', 4.256874025393585),\n",
       " ('mal', 4.256874025393585),\n",
       " ('Fórum:', 4.256874025393585),\n",
       " ('|Sugestão|', 4.256874025393585),\n",
       " ('Visualizações:', 4.256874025393585),\n",
       " ('Imperyano', 4.256874025393585),\n",
       " ('suporte', 4.256874025393585),\n",
       " ('próxima', 4.256874025393585),\n",
       " ('CS', 4.256874025393585),\n",
       " ('material', 4.256874025393585),\n",
       " ('meus', 4.256874025393585),\n",
       " ('Xpress', 4.256874025393585),\n",
       " ('Pedido', 4.256874025393585),\n",
       " ('|Atendido|', 4.256874025393585),\n",
       " ('exibição', 4.256874025393585),\n",
       " ('|Aviso|', 4.256874025393585),\n",
       " ('|Suporte|', 4.256874025393585),\n",
       " ('Ray', 4.256874025393585),\n",
       " ('conquista', 4.256874025393585),\n",
       " ('base', 4.256874025393585),\n",
       " ('SSD', 4.256874025393585),\n",
       " ('Gabinete', 4.256874025393585),\n",
       " ('Operacional', 4.256874025393585),\n",
       " ('Páginas', 4.256874025393585)]"
      ]
     },
     "execution_count": 146,
     "metadata": {},
     "output_type": "execute_result"
    }
   ],
   "source": [
    "rdd_csgo_only_idf = rdd_csgo_only_doc_freq_filtrado.map(idf)\n",
    "result = rdd_csgo_only_idf.collect()\n",
    "sorted(result, key=lambda x : x[1])[-100:]"
   ]
  },
  {
   "cell_type": "markdown",
   "metadata": {},
   "source": [
    "#### Calculando a relevância das palavras"
   ]
  },
  {
   "cell_type": "code",
   "execution_count": 147,
   "metadata": {},
   "outputs": [
    {
     "data": {
      "text/plain": [
       "[('is', 3.1942616582349888),\n",
       " ('mensagens', 3.1942616582349888),\n",
       " ('neste', 3.1942616582349888),\n",
       " ('outros', 3.1942616582349888),\n",
       " ('pedidos', 3.1942616582349888),\n",
       " ('reserved.', 3.1942616582349888),\n",
       " ('rights', 3.1942616582349888),\n",
       " ('servidor', 3.1942616582349888),\n",
       " ('servidores', 3.1942616582349888),\n",
       " ('suas', 3.1942616582349888),\n",
       " ('tempo', 3.1942616582349888),\n",
       " ('todos', 3.1942616582349888),\n",
       " ('vBulletin', 3.1942616582349888),\n",
       " ('&', 3.352997905124013),\n",
       " ('Brasil', 3.352997905124013),\n",
       " ('Como', 3.352997905124013),\n",
       " ('Fórum', 3.352997905124013),\n",
       " ('Imagens', 3.352997905124013),\n",
       " ('Nintendo', 3.352997905124013),\n",
       " ('Notícias', 3.352997905124013),\n",
       " ('Outros', 3.352997905124013),\n",
       " ('Para', 3.352997905124013),\n",
       " ('Playstation', 3.352997905124013),\n",
       " ('Quem', 3.352997905124013),\n",
       " ('Seja', 3.352997905124013),\n",
       " ('Team', 3.352997905124013),\n",
       " ('Vídeos', 3.352997905124013),\n",
       " ('Web', 3.352997905124013),\n",
       " ('X', 3.352997905124013),\n",
       " ('aqui', 3.352997905124013),\n",
       " ('conteúdo', 3.352997905124013),\n",
       " ('dados', 3.352997905124013),\n",
       " ('entre', 3.352997905124013),\n",
       " ('está', 3.352997905124013),\n",
       " ('nosso', 3.352997905124013),\n",
       " ('pode', 3.352997905124013),\n",
       " ('qualidade', 3.352997905124013),\n",
       " ('são', 3.352997905124013),\n",
       " ('ver', 3.352997905124013),\n",
       " ('você', 3.352997905124013),\n",
       " ('Últimas', 3.352997905124013),\n",
       " ('/', 3.487578915400842),\n",
       " ('1', 3.487578915400842),\n",
       " ('4', 3.487578915400842),\n",
       " ('A', 3.487578915400842),\n",
       " ('Games', 3.487578915400842),\n",
       " ('Hardware', 3.487578915400842),\n",
       " ('Informações', 3.487578915400842),\n",
       " ('Início', 3.487578915400842),\n",
       " ('Jogos', 3.487578915400842),\n",
       " ('Minecraft', 3.487578915400842),\n",
       " ('Não', 3.487578915400842),\n",
       " ('O', 3.487578915400842),\n",
       " ('Pedidos', 3.487578915400842),\n",
       " ('Todos', 3.487578915400842),\n",
       " ('dos', 3.487578915400842),\n",
       " ('jogo', 3.487578915400842),\n",
       " ('maior', 3.487578915400842),\n",
       " ('na', 3.487578915400842),\n",
       " ('se', 3.487578915400842),\n",
       " ('é', 3.487578915400842),\n",
       " ('0', 3.6036615116182413),\n",
       " ('Copyright', 3.6036615116182413),\n",
       " ('Grand', 3.6036615116182413),\n",
       " ('The', 3.6036615116182413),\n",
       " ('by', 3.6036615116182413),\n",
       " ('não', 3.6036615116182413),\n",
       " ('sobre', 3.6036615116182413),\n",
       " ('sua', 3.6036615116182413),\n",
       " ('-', 3.7051752220243843),\n",
       " ('2', 3.7051752220243843),\n",
       " ('All', 3.7051752220243843),\n",
       " ('Legends', 3.7051752220243843),\n",
       " ('PC', 3.7051752220243843),\n",
       " ('Ver', 3.7051752220243843),\n",
       " ('em', 3.7051752220243843),\n",
       " ('jogos', 3.7051752220243843),\n",
       " ('por', 3.7051752220243843),\n",
       " ('que', 3.7051752220243843),\n",
       " ('um', 3.7051752220243843),\n",
       " ('2020', 3.794953085216449),\n",
       " ('League', 3.794953085216449),\n",
       " ('Strike', 3.794953085216449),\n",
       " ('como', 3.794953085216449),\n",
       " ('|', 3.794953085216449),\n",
       " ('a', 3.875100109740716),\n",
       " ('da', 3.875100109740716),\n",
       " ('mais', 3.875100109740716),\n",
       " ('o', 3.875100109740716),\n",
       " ('of', 3.875100109740716),\n",
       " ('os', 3.875100109740716),\n",
       " ('para', 3.875100109740716),\n",
       " ('seu', 3.875100109740716),\n",
       " ('Counter', 3.9472198762283845),\n",
       " ('com', 3.9472198762283845),\n",
       " ('de', 3.9472198762283845),\n",
       " ('do', 3.9472198762283845),\n",
       " ('e', 3.9472198762283845),\n",
       " ('no', 3.9472198762283845),\n",
       " ('©', 3.9472198762283845)]"
      ]
     },
     "execution_count": 147,
     "metadata": {},
     "output_type": "execute_result"
    }
   ],
   "source": [
    "csgo_filtrado_sort_by_key_rdd = rdd_csgo_only_doc_freq_filtrado.sortByKey()\n",
    "rdd_relevancia_csgo_only = csgo_filtrado_sort_by_key_rdd.map(relevancia)\n",
    "res = rdd_relevancia_csgo_only.collect()\n",
    "sorted(res, key=lambda x : x[1])[-100:]"
   ]
  },
  {
   "cell_type": "markdown",
   "metadata": {},
   "source": [
    "### Valorant"
   ]
  },
  {
   "cell_type": "markdown",
   "metadata": {},
   "source": [
    "#### Criando o RDD com documentos que possuem somente Counter Strike\n",
    "#### Filtrando o RDD"
   ]
  },
  {
   "cell_type": "code",
   "execution_count": 148,
   "metadata": {},
   "outputs": [
    {
     "data": {
      "text/plain": [
       "[('Among', 2),\n",
       " ('boa', 2),\n",
       " ('baseado', 2),\n",
       " ('das', 4),\n",
       " ('no', 7),\n",
       " ('Só', 2),\n",
       " ('favorito', 2),\n",
       " ('podem', 3),\n",
       " ('of', 6),\n",
       " ('melhor', 3)]"
      ]
     },
     "execution_count": 148,
     "metadata": {},
     "output_type": "execute_result"
    }
   ],
   "source": [
    "rdd_valorant_only = rdd_valorant.subtract(rdd_valorant_csgo)\n",
    "rdd_valorant_only_doc_freq = rdd_valorant_only.flatMap(conta_palavras).reduceByKey(junta_contagens)\n",
    "rdd_valorant_only_doc_freq_filtrado = rdd_valorant_only_doc_freq.filter(filtra_doc_freq)\n",
    "rdd_valorant_only_doc_freq_filtrado.take(10)"
   ]
  },
  {
   "cell_type": "markdown",
   "metadata": {},
   "source": [
    "#### Calculando o IDF das palavras"
   ]
  },
  {
   "cell_type": "code",
   "execution_count": 149,
   "metadata": {
    "scrolled": true
   },
   "outputs": [
    {
     "data": {
      "text/plain": [
       "[('semifinais', 4.256874025393585),\n",
       " ('eSports', 4.256874025393585),\n",
       " ('relativamente', 4.256874025393585),\n",
       " ('Colunistas', 4.256874025393585),\n",
       " ('esta', 4.256874025393585),\n",
       " ('one', 4.256874025393585),\n",
       " ('viole', 4.256874025393585),\n",
       " ('Thiago', 4.256874025393585),\n",
       " ('preços', 4.256874025393585),\n",
       " ('gosta', 4.256874025393585),\n",
       " ('eles', 4.256874025393585),\n",
       " ('confira', 4.256874025393585),\n",
       " ('séries', 4.256874025393585),\n",
       " ('Desfazer', 4.256874025393585),\n",
       " ('R$0,00', 4.256874025393585),\n",
       " ('Item', 4.256874025393585),\n",
       " ('Talvez', 4.256874025393585),\n",
       " ('Ragnarok', 4.256874025393585),\n",
       " ('Star', 4.256874025393585),\n",
       " ('adiado', 4.256874025393585),\n",
       " ('globo.com', 4.256874025393585),\n",
       " ('g7', 4.256874025393585),\n",
       " ('site.', 4.256874025393585),\n",
       " ('Claro,', 4.256874025393585),\n",
       " ('ilegal.', 4.256874025393585),\n",
       " ('Melhores', 4.256874025393585),\n",
       " ('Monitor', 4.256874025393585),\n",
       " ('anos,', 4.256874025393585),\n",
       " ('ano', 4.256874025393585),\n",
       " ('19', 4.256874025393585),\n",
       " ('porque', 4.256874025393585),\n",
       " ('contar', 4.256874025393585),\n",
       " ('Nova', 4.256874025393585),\n",
       " ('Em', 4.256874025393585),\n",
       " ('Títulos', 4.256874025393585),\n",
       " ('Etapa', 4.256874025393585),\n",
       " ('B', 4.256874025393585),\n",
       " ('original.', 4.256874025393585),\n",
       " ('lá', 4.256874025393585),\n",
       " ('eu', 4.256874025393585),\n",
       " ('comentar', 4.256874025393585),\n",
       " ('só', 4.256874025393585),\n",
       " ('responsabilidade', 4.256874025393585),\n",
       " ('Roteadores', 4.256874025393585),\n",
       " ('Gamer', 4.256874025393585),\n",
       " ('(Foto:', 4.256874025393585),\n",
       " ('Telefonia', 4.256874025393585),\n",
       " ('Temporada', 4.256874025393585),\n",
       " ('lugar', 4.256874025393585),\n",
       " ('Sega', 4.256874025393585),\n",
       " ('Luz-aurora', 4.256874025393585),\n",
       " ('Questionário', 4.256874025393585),\n",
       " ('Blank', 4.256874025393585),\n",
       " ('WesleyHP.', 4.256874025393585),\n",
       " ('Vênus', 4.256874025393585),\n",
       " ('Worlds', 4.256874025393585),\n",
       " ('mês', 4.256874025393585),\n",
       " ('Santos', 4.256874025393585),\n",
       " ('menores', 4.256874025393585),\n",
       " ('Digital', 4.256874025393585),\n",
       " ('próxima', 4.256874025393585),\n",
       " ('reúne', 4.256874025393585),\n",
       " ('recentes', 4.256874025393585),\n",
       " ('Oculus', 4.256874025393585),\n",
       " ('Fórum', 4.256874025393585),\n",
       " ('Corrida', 4.256874025393585),\n",
       " ('iPhone', 4.256874025393585),\n",
       " ('denunciar', 4.256874025393585),\n",
       " ('TVs', 4.256874025393585),\n",
       " ('trabalhar', 4.256874025393585),\n",
       " ('essa', 4.256874025393585),\n",
       " ('utiliza', 4.256874025393585),\n",
       " ('Animes', 4.256874025393585),\n",
       " ('8', 4.256874025393585),\n",
       " ('Continent', 4.256874025393585),\n",
       " ('Lembrar-me', 4.256874025393585),\n",
       " ('goste!', 4.256874025393585),\n",
       " ('Revenda', 4.256874025393585),\n",
       " ('fora', 4.256874025393585),\n",
       " ('real', 4.256874025393585),\n",
       " ('E', 4.256874025393585),\n",
       " ('game', 4.256874025393585),\n",
       " ('Grande', 4.256874025393585),\n",
       " ('pelos', 4.256874025393585),\n",
       " ('aventura', 4.256874025393585),\n",
       " ('Componentes', 4.256874025393585),\n",
       " ('Gamepad', 4.256874025393585),\n",
       " ('Arcade', 4.256874025393585),\n",
       " ('gshow', 4.256874025393585),\n",
       " ('problema', 4.256874025393585),\n",
       " ('Eletrônicos', 4.256874025393585),\n",
       " ('Equipe', 4.256874025393585),\n",
       " ('Edition', 4.256874025393585),\n",
       " ('categoria', 4.256874025393585),\n",
       " ('possui', 4.256874025393585),\n",
       " ('Páginas', 4.256874025393585),\n",
       " ('Astrolábio', 4.256874025393585),\n",
       " ('Endereços', 4.256874025393585),\n",
       " ('conta?', 4.256874025393585),\n",
       " ('Conte', 4.256874025393585)]"
      ]
     },
     "execution_count": 149,
     "metadata": {},
     "output_type": "execute_result"
    }
   ],
   "source": [
    "rdd_valorant_only_idf = rdd_valorant_only_doc_freq_filtrado.map(idf)\n",
    "result = rdd_valorant_only_idf.collect()\n",
    "sorted(result, key=lambda x : x[1])[-100:]"
   ]
  },
  {
   "cell_type": "markdown",
   "metadata": {},
   "source": [
    "#### Calculando a relevância das palavras"
   ]
  },
  {
   "cell_type": "code",
   "execution_count": 150,
   "metadata": {},
   "outputs": [
    {
     "data": {
      "text/plain": [
       "[('World', 2.7650163186127155),\n",
       " ('algumas', 2.7650163186127155),\n",
       " ('anuncia', 2.7650163186127155),\n",
       " ('ao', 2.7650163186127155),\n",
       " ('cada', 2.7650163186127155),\n",
       " ('casa', 2.7650163186127155),\n",
       " ('chega', 2.7650163186127155),\n",
       " ('conta', 2.7650163186127155),\n",
       " ('das', 2.7650163186127155),\n",
       " ('disponíveis', 2.7650163186127155),\n",
       " ('final', 2.7650163186127155),\n",
       " ('games', 2.7650163186127155),\n",
       " ('hoje', 2.7650163186127155),\n",
       " ('ideia', 2.7650163186127155),\n",
       " ('jogos', 2.7650163186127155),\n",
       " ('maior', 2.7650163186127155),\n",
       " ('mas', 2.7650163186127155),\n",
       " ('muito', 2.7650163186127155),\n",
       " ('nos', 2.7650163186127155),\n",
       " ('nossa', 2.7650163186127155),\n",
       " ('nova', 2.7650163186127155),\n",
       " ('novo', 2.7650163186127155),\n",
       " ('oficial', 2.7650163186127155),\n",
       " ('opinião', 2.7650163186127155),\n",
       " ('pela', 2.7650163186127155),\n",
       " ('primeiro', 2.7650163186127155),\n",
       " ('será', 2.7650163186127155),\n",
       " ('são', 2.7650163186127155),\n",
       " ('também', 2.7650163186127155),\n",
       " ('tempo', 2.7650163186127155),\n",
       " ('the', 2.7650163186127155),\n",
       " ('todos', 2.7650163186127155),\n",
       " ('&', 3.0028343302598484),\n",
       " ('0', 3.0028343302598484),\n",
       " ('10', 3.0028343302598484),\n",
       " ('2', 3.0028343302598484),\n",
       " ('4', 3.0028343302598484),\n",
       " ('A', 3.0028343302598484),\n",
       " ('Como', 3.0028343302598484),\n",
       " ('Facebook', 3.0028343302598484),\n",
       " ('Games', 3.0028343302598484),\n",
       " ('Guia', 3.0028343302598484),\n",
       " ('League', 3.0028343302598484),\n",
       " ('Legends', 3.0028343302598484),\n",
       " ('Mobile', 3.0028343302598484),\n",
       " ('Os', 3.0028343302598484),\n",
       " ('PC', 3.0028343302598484),\n",
       " ('Um', 3.0028343302598484),\n",
       " ('até', 3.0028343302598484),\n",
       " ('está', 3.0028343302598484),\n",
       " ('história', 3.0028343302598484),\n",
       " ('já', 3.0028343302598484),\n",
       " ('mundo', 3.0028343302598484),\n",
       " ('os', 3.0028343302598484),\n",
       " ('se', 3.0028343302598484),\n",
       " ('sem', 3.0028343302598484),\n",
       " ('seu', 3.0028343302598484),\n",
       " ('sua', 3.0028343302598484),\n",
       " ('tudo', 3.0028343302598484),\n",
       " ('Últimas', 3.0028343302598484),\n",
       " ('à', 3.0028343302598484),\n",
       " ('1', 3.1942616582349888),\n",
       " ('Jogos', 3.1942616582349888),\n",
       " ('Mais', 3.1942616582349888),\n",
       " ('PlayStation', 3.1942616582349888),\n",
       " ('Xbox', 3.1942616582349888),\n",
       " ('como', 3.1942616582349888),\n",
       " ('dos', 3.1942616582349888),\n",
       " ('mais', 3.1942616582349888),\n",
       " ('of', 3.1942616582349888),\n",
       " ('ou', 3.1942616582349888),\n",
       " ('por', 3.1942616582349888),\n",
       " ('que', 3.1942616582349888),\n",
       " ('seus', 3.1942616582349888),\n",
       " ('sobre', 3.1942616582349888),\n",
       " ('tem', 3.1942616582349888),\n",
       " ('|', 3.1942616582349888),\n",
       " ('2020', 3.352997905124013),\n",
       " ('no', 3.352997905124013),\n",
       " ('não', 3.352997905124013),\n",
       " ('uma', 3.352997905124013),\n",
       " ('você', 3.352997905124013),\n",
       " ('©', 3.352997905124013),\n",
       " ('é', 3.352997905124013),\n",
       " ('–', 3.352997905124013),\n",
       " ('-', 3.487578915400842),\n",
       " ('5', 3.487578915400842),\n",
       " ('as', 3.487578915400842),\n",
       " ('com', 3.487578915400842),\n",
       " ('um', 3.487578915400842),\n",
       " ('Valorant', 3.6036615116182413),\n",
       " ('a', 3.6036615116182413),\n",
       " ('da', 3.6036615116182413),\n",
       " ('de', 3.6036615116182413),\n",
       " ('do', 3.6036615116182413),\n",
       " ('e', 3.6036615116182413),\n",
       " ('em', 3.6036615116182413),\n",
       " ('na', 3.6036615116182413),\n",
       " ('o', 3.6036615116182413),\n",
       " ('para', 3.6036615116182413)]"
      ]
     },
     "execution_count": 150,
     "metadata": {},
     "output_type": "execute_result"
    }
   ],
   "source": [
    "valorant_filtrado_sort_by_key_rdd = rdd_valorant_only_doc_freq_filtrado.sortByKey()\n",
    "rdd_relevancia_valorant_only = valorant_filtrado_sort_by_key_rdd.map(relevancia)\n",
    "res = rdd_relevancia_valorant_only.collect()\n",
    "sorted(res, key=lambda x : x[1])[-100:]"
   ]
  },
  {
   "cell_type": "code",
   "execution_count": 129,
   "metadata": {},
   "outputs": [],
   "source": [
    "sc.stop()"
   ]
  }
 ],
 "metadata": {
  "kernelspec": {
   "display_name": "Python 3",
   "language": "python",
   "name": "python3"
  },
  "language_info": {
   "codemirror_mode": {
    "name": "ipython",
    "version": 3
   },
   "file_extension": ".py",
   "mimetype": "text/x-python",
   "name": "python",
   "nbconvert_exporter": "python",
   "pygments_lexer": "ipython3",
   "version": "3.8.5"
  }
 },
 "nbformat": 4,
 "nbformat_minor": 4
}
